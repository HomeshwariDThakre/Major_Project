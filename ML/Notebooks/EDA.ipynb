{
 "cells": [
  {
   "cell_type": "code",
   "execution_count": 1,
   "id": "410bf190-3a12-48cb-a2f2-a926ece9ee0e",
   "metadata": {},
   "outputs": [],
   "source": [
    "# Importing libraries\n",
    "\n",
    "import numpy as np\n",
    "import pandas as pd\n",
    "import matplotlib.pyplot as plt\n",
    "import seaborn as sns\n",
    "from collections import Counter\n",
    "import os"
   ]
  },
  {
   "cell_type": "code",
   "execution_count": 2,
   "id": "4ffc7c3c-0727-4728-8aa7-780414a01fb1",
   "metadata": {},
   "outputs": [],
   "source": [
    "path = '../Data'\n",
    "train = pd.read_csv(path + \"/train.csv\")\n",
    "test = pd.read_csv(path + \"/test.csv\")"
   ]
  },
  {
   "cell_type": "code",
   "execution_count": 3,
   "id": "c9f342f9-e9b4-4eb5-8c91-5e9ee1a5ed1e",
   "metadata": {},
   "outputs": [
    {
     "data": {
      "text/html": [
       "<div>\n",
       "<style scoped>\n",
       "    .dataframe tbody tr th:only-of-type {\n",
       "        vertical-align: middle;\n",
       "    }\n",
       "\n",
       "    .dataframe tbody tr th {\n",
       "        vertical-align: top;\n",
       "    }\n",
       "\n",
       "    .dataframe thead th {\n",
       "        text-align: right;\n",
       "    }\n",
       "</style>\n",
       "<table border=\"1\" class=\"dataframe\">\n",
       "  <thead>\n",
       "    <tr style=\"text-align: right;\">\n",
       "      <th></th>\n",
       "      <th>ID</th>\n",
       "      <th>Estimated_Insects_Count</th>\n",
       "      <th>Crop_Type</th>\n",
       "      <th>Soil_Type</th>\n",
       "      <th>Pesticide_Use_Category</th>\n",
       "      <th>Number_Doses_Week</th>\n",
       "      <th>Number_Weeks_Used</th>\n",
       "      <th>Number_Weeks_Quit</th>\n",
       "      <th>Season</th>\n",
       "      <th>Crop_Damage</th>\n",
       "    </tr>\n",
       "  </thead>\n",
       "  <tbody>\n",
       "    <tr>\n",
       "      <th>0</th>\n",
       "      <td>F00000001</td>\n",
       "      <td>188</td>\n",
       "      <td>1</td>\n",
       "      <td>0</td>\n",
       "      <td>1</td>\n",
       "      <td>0</td>\n",
       "      <td>0.0</td>\n",
       "      <td>0</td>\n",
       "      <td>1</td>\n",
       "      <td>0</td>\n",
       "    </tr>\n",
       "    <tr>\n",
       "      <th>1</th>\n",
       "      <td>F00000003</td>\n",
       "      <td>209</td>\n",
       "      <td>1</td>\n",
       "      <td>0</td>\n",
       "      <td>1</td>\n",
       "      <td>0</td>\n",
       "      <td>0.0</td>\n",
       "      <td>0</td>\n",
       "      <td>2</td>\n",
       "      <td>1</td>\n",
       "    </tr>\n",
       "    <tr>\n",
       "      <th>2</th>\n",
       "      <td>F00000004</td>\n",
       "      <td>257</td>\n",
       "      <td>1</td>\n",
       "      <td>0</td>\n",
       "      <td>1</td>\n",
       "      <td>0</td>\n",
       "      <td>0.0</td>\n",
       "      <td>0</td>\n",
       "      <td>2</td>\n",
       "      <td>1</td>\n",
       "    </tr>\n",
       "    <tr>\n",
       "      <th>3</th>\n",
       "      <td>F00000005</td>\n",
       "      <td>257</td>\n",
       "      <td>1</td>\n",
       "      <td>1</td>\n",
       "      <td>1</td>\n",
       "      <td>0</td>\n",
       "      <td>0.0</td>\n",
       "      <td>0</td>\n",
       "      <td>2</td>\n",
       "      <td>1</td>\n",
       "    </tr>\n",
       "    <tr>\n",
       "      <th>4</th>\n",
       "      <td>F00000006</td>\n",
       "      <td>342</td>\n",
       "      <td>1</td>\n",
       "      <td>0</td>\n",
       "      <td>1</td>\n",
       "      <td>0</td>\n",
       "      <td>0.0</td>\n",
       "      <td>0</td>\n",
       "      <td>2</td>\n",
       "      <td>1</td>\n",
       "    </tr>\n",
       "  </tbody>\n",
       "</table>\n",
       "</div>"
      ],
      "text/plain": [
       "          ID  Estimated_Insects_Count  Crop_Type  Soil_Type  \\\n",
       "0  F00000001                      188          1          0   \n",
       "1  F00000003                      209          1          0   \n",
       "2  F00000004                      257          1          0   \n",
       "3  F00000005                      257          1          1   \n",
       "4  F00000006                      342          1          0   \n",
       "\n",
       "   Pesticide_Use_Category  Number_Doses_Week  Number_Weeks_Used  \\\n",
       "0                       1                  0                0.0   \n",
       "1                       1                  0                0.0   \n",
       "2                       1                  0                0.0   \n",
       "3                       1                  0                0.0   \n",
       "4                       1                  0                0.0   \n",
       "\n",
       "   Number_Weeks_Quit  Season  Crop_Damage  \n",
       "0                  0       1            0  \n",
       "1                  0       2            1  \n",
       "2                  0       2            1  \n",
       "3                  0       2            1  \n",
       "4                  0       2            1  "
      ]
     },
     "execution_count": 3,
     "metadata": {},
     "output_type": "execute_result"
    }
   ],
   "source": [
    "train.head()"
   ]
  },
  {
   "cell_type": "code",
   "execution_count": 4,
   "id": "d42f1951-98ba-4b87-b972-56c741f82a53",
   "metadata": {},
   "outputs": [],
   "source": [
    "arr = train['Estimated_Insects_Count'].tolist()"
   ]
  },
  {
   "cell_type": "code",
   "execution_count": 5,
   "id": "6eaa58d7-3db5-48ae-8345-e03a396a6017",
   "metadata": {},
   "outputs": [
    {
     "name": "stdout",
     "output_type": "stream",
     "text": [
      "4097 150 1399\n"
     ]
    }
   ],
   "source": [
    "def avg(arr):\n",
    "    return sum(arr)//len(arr)\n",
    "print(max(arr),min(arr),avg(arr))"
   ]
  },
  {
   "cell_type": "code",
   "execution_count": 6,
   "id": "eb029854-9723-4b94-8d7e-da42431dad8c",
   "metadata": {},
   "outputs": [],
   "source": [
    "brr = train['Crop_Type'].tolist()"
   ]
  },
  {
   "cell_type": "code",
   "execution_count": 8,
   "id": "0db83be1-1944-481a-b2f9-4c283a6dad79",
   "metadata": {},
   "outputs": [
    {
     "data": {
      "text/plain": [
       "Counter({1: 25269, 0: 63589})"
      ]
     },
     "execution_count": 8,
     "metadata": {},
     "output_type": "execute_result"
    }
   ],
   "source": [
    "Counter(train['Crop_Type'])"
   ]
  },
  {
   "cell_type": "code",
   "execution_count": 7,
   "id": "0f74886b-69c2-43f8-a4cf-e89c4c22a622",
   "metadata": {},
   "outputs": [
    {
     "data": {
      "text/plain": [
       "Counter({0: 48124, 1: 40734})"
      ]
     },
     "execution_count": 7,
     "metadata": {},
     "output_type": "execute_result"
    }
   ],
   "source": [
    "Counter(train['Soil_Type'])"
   ]
  },
  {
   "cell_type": "code",
   "execution_count": 16,
   "id": "4e586b5f-1a15-4d4e-ac12-48a0ca254a08",
   "metadata": {},
   "outputs": [
    {
     "data": {
      "text/plain": [
       "Counter({1: 837, 3: 24312, 2: 63709})"
      ]
     },
     "execution_count": 16,
     "metadata": {},
     "output_type": "execute_result"
    }
   ],
   "source": [
    "Counter(train['Pesticide_Use_Category'])"
   ]
  },
  {
   "cell_type": "code",
   "execution_count": 17,
   "id": "8c65ea5f-2e98-4b5e-af99-fb8f6090dee1",
   "metadata": {},
   "outputs": [
    {
     "data": {
      "text/plain": [
       "Counter({0: 837,\n",
       "         30: 10438,\n",
       "         40: 12298,\n",
       "         60: 4367,\n",
       "         20: 22589,\n",
       "         25: 4890,\n",
       "         45: 936,\n",
       "         50: 3361,\n",
       "         15: 8178,\n",
       "         10: 12111,\n",
       "         5: 5520,\n",
       "         35: 1832,\n",
       "         70: 303,\n",
       "         55: 277,\n",
       "         80: 672,\n",
       "         90: 83,\n",
       "         85: 11,\n",
       "         65: 64,\n",
       "         75: 61,\n",
       "         95: 30})"
      ]
     },
     "execution_count": 17,
     "metadata": {},
     "output_type": "execute_result"
    }
   ],
   "source": [
    "Counter(train['Number_Doses_Week'])"
   ]
  },
  {
   "cell_type": "code",
   "execution_count": 18,
   "id": "6fd0543c-9fd1-4191-a864-eddc55186864",
   "metadata": {},
   "outputs": [],
   "source": [
    "crr = train['Number_Doses_Week'].tolist()"
   ]
  },
  {
   "cell_type": "code",
   "execution_count": 19,
   "id": "40ef8d66-9c39-48a4-aba2-3c77cb81bc14",
   "metadata": {},
   "outputs": [
    {
     "name": "stdout",
     "output_type": "stream",
     "text": [
      "95 0 25\n"
     ]
    }
   ],
   "source": [
    "print(max(crr),min(crr),avg(crr))"
   ]
  },
  {
   "cell_type": "code",
   "execution_count": 10,
   "id": "a9861127-513c-47e7-965e-7923b62b6fef",
   "metadata": {},
   "outputs": [],
   "source": [
    "crr = train['Number_Weeks_Used'].tolist()"
   ]
  },
  {
   "cell_type": "code",
   "execution_count": 11,
   "id": "e0de9328-06fb-4aec-845f-3c1752789a41",
   "metadata": {},
   "outputs": [
    {
     "name": "stdout",
     "output_type": "stream",
     "text": [
      "67.0 0.0 25.724785613000517\n"
     ]
    }
   ],
   "source": [
    "crr = np.asarray(crr)\n",
    "for i in range(len(crr)):\n",
    "    if np.isnan(crr[i]):\n",
    "        crr[i] = 0\n",
    "print(np.max(crr),np.min(crr),np.mean(crr))"
   ]
  },
  {
   "cell_type": "code",
   "execution_count": 12,
   "id": "e29d09b0-f809-4957-b551-8533e8a33826",
   "metadata": {},
   "outputs": [
    {
     "data": {
      "text/plain": [
       "Counter({0: 27274,\n",
       "         1: 2620,\n",
       "         9: 1897,\n",
       "         4: 2528,\n",
       "         13: 2485,\n",
       "         3: 2578,\n",
       "         14: 2610,\n",
       "         6: 2584,\n",
       "         2: 2743,\n",
       "         12: 2701,\n",
       "         15: 2668,\n",
       "         10: 2893,\n",
       "         8: 2294,\n",
       "         11: 2090,\n",
       "         7: 2418,\n",
       "         5: 2831,\n",
       "         17: 2018,\n",
       "         18: 2030,\n",
       "         16: 2108,\n",
       "         20: 2209,\n",
       "         21: 1436,\n",
       "         19: 1841,\n",
       "         22: 1414,\n",
       "         24: 1054,\n",
       "         23: 1166,\n",
       "         27: 820,\n",
       "         25: 1109,\n",
       "         28: 808,\n",
       "         26: 894,\n",
       "         29: 719,\n",
       "         30: 751,\n",
       "         31: 530,\n",
       "         33: 370,\n",
       "         32: 505,\n",
       "         36: 248,\n",
       "         37: 221,\n",
       "         34: 345,\n",
       "         39: 109,\n",
       "         44: 38,\n",
       "         41: 86,\n",
       "         35: 301,\n",
       "         47: 21,\n",
       "         46: 22,\n",
       "         40: 133,\n",
       "         42: 75,\n",
       "         38: 162,\n",
       "         43: 51,\n",
       "         45: 30,\n",
       "         49: 4,\n",
       "         50: 6,\n",
       "         48: 10})"
      ]
     },
     "execution_count": 12,
     "metadata": {},
     "output_type": "execute_result"
    }
   ],
   "source": [
    "Counter(train['Number_Weeks_Quit'])"
   ]
  },
  {
   "cell_type": "code",
   "execution_count": 23,
   "id": "382b96b9-294c-4484-884b-d965c463c8ef",
   "metadata": {},
   "outputs": [],
   "source": [
    "drr = train['Number_Weeks_Quit'].tolist()"
   ]
  },
  {
   "cell_type": "code",
   "execution_count": 24,
   "id": "845ff0e8-0ace-428e-a671-d36e48d0f970",
   "metadata": {},
   "outputs": [
    {
     "name": "stdout",
     "output_type": "stream",
     "text": [
      "50 0 9\n"
     ]
    }
   ],
   "source": [
    "print(max(drr),min(drr),avg(drr))"
   ]
  },
  {
   "cell_type": "code",
   "execution_count": 25,
   "id": "b0ffe7b1-2df2-4e85-ac4c-b9552535b54c",
   "metadata": {},
   "outputs": [
    {
     "data": {
      "text/plain": [
       "Counter({1: 26902, 2: 44210, 3: 17746})"
      ]
     },
     "execution_count": 25,
     "metadata": {},
     "output_type": "execute_result"
    }
   ],
   "source": [
    "Counter(train['Season'])"
   ]
  },
  {
   "cell_type": "code",
   "execution_count": 26,
   "id": "46816594-fa73-4ef9-bce4-1ec47bd4872d",
   "metadata": {},
   "outputs": [
    {
     "data": {
      "text/plain": [
       "Counter({0: 74238, 1: 12307, 2: 2313})"
      ]
     },
     "execution_count": 26,
     "metadata": {},
     "output_type": "execute_result"
    }
   ],
   "source": [
    "Counter(train['Crop_Damage'])"
   ]
  },
  {
   "cell_type": "markdown",
   "metadata": {},
   "source": [
    "## Visualization"
   ]
  },
  {
   "cell_type": "code",
   "execution_count": 27,
   "id": "07cbadc6-5272-41bb-8957-317a604661fc",
   "metadata": {},
   "outputs": [
    {
     "data": {
      "text/plain": [
       "<AxesSubplot: >"
      ]
     },
     "execution_count": 27,
     "metadata": {},
     "output_type": "execute_result"
    },
    {
     "data": {
      "image/png": "[encoded data removed]",
      "text/plain": [
       "<Figure size 640x480 with 1 Axes>"
      ]
     },
     "metadata": {},
     "output_type": "display_data"
    }
   ],
   "source": [
    "train[train.Pesticide_Use_Category == 2].Number_Weeks_Used.hist(bins=30)"
   ]
  },
  {
   "cell_type": "code",
   "execution_count": 28,
   "metadata": {},
   "outputs": [
    {
     "data": {
      "text/plain": [
       "<AxesSubplot: >"
      ]
     },
     "execution_count": 28,
     "metadata": {},
     "output_type": "execute_result"
    },
    {
     "data": {
      "image/png": "[encoded data removed]",
      "text/plain": [
       "<Figure size 640x480 with 1 Axes>"
      ]
     },
     "metadata": {},
     "output_type": "display_data"
    }
   ],
   "source": [
    "train[train.Pesticide_Use_Category == 3].Number_Weeks_Used.hist(bins=30)"
   ]
  },
  {
   "cell_type": "code",
   "execution_count": null,
   "metadata": {},
   "outputs": [],
   "source": []
  }
 ],
 "metadata": {
  "kernelspec": {
   "display_name": "Python 3",
   "language": "python",
   "name": "python3"
  },
  "language_info": {
   "codemirror_mode": {
    "name": "ipython",
    "version": 3
   },
   "file_extension": ".py",
   "mimetype": "text/x-python",
   "name": "python",
   "nbconvert_exporter": "python",
   "pygments_lexer": "ipython3",
   "version": "3.10.10"
  },
  "vscode": {
   "interpreter": {
    "hash": "84fd2673a0f847bf80637898000f9b4175f2ffd476d5f31b41a838c2acdb5b76"
   }
  }
 },
 "nbformat": 4,
 "nbformat_minor": 5
}
